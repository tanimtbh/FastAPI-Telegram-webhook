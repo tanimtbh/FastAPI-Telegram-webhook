{
 "cells": [
  {
   "cell_type": "code",
   "execution_count": 15,
   "metadata": {},
   "outputs": [],
   "source": [
    "from datetime import datetime"
   ]
  },
  {
   "cell_type": "code",
   "execution_count": 2,
   "metadata": {},
   "outputs": [],
   "source": [
    "test={'update_id': 534054329, 'message': {'message_id': 74, 'from': {'id': 1455603038, 'is_bot': False, 'first_name': 'Tanim', 'language_code': 'en'}, 'chat': {'id': 1455603038, 'first_name': 'Tanim', 'type': 'private'}, 'date': 1620326316, 'text': 'Hi'}}\n"
   ]
  },
  {
   "cell_type": "code",
   "execution_count": 7,
   "metadata": {},
   "outputs": [
    {
     "data": {
      "text/plain": [
       "'Hi'"
      ]
     },
     "execution_count": 7,
     "metadata": {},
     "output_type": "execute_result"
    }
   ],
   "source": [
    "test['message']['text']"
   ]
  },
  {
   "cell_type": "code",
   "execution_count": 9,
   "metadata": {},
   "outputs": [
    {
     "data": {
      "text/plain": [
       "'Tanim'"
      ]
     },
     "execution_count": 9,
     "metadata": {},
     "output_type": "execute_result"
    }
   ],
   "source": [
    "test['message']['from']['first_name']"
   ]
  },
  {
   "cell_type": "code",
   "execution_count": 10,
   "metadata": {},
   "outputs": [
    {
     "data": {
      "text/plain": [
       "1455603038"
      ]
     },
     "execution_count": 10,
     "metadata": {},
     "output_type": "execute_result"
    }
   ],
   "source": [
    "test['message']['from']['id']"
   ]
  },
  {
   "cell_type": "code",
   "execution_count": 12,
   "metadata": {},
   "outputs": [],
   "source": [
    "seconds = time.time()"
   ]
  },
  {
   "cell_type": "code",
   "execution_count": 22,
   "metadata": {},
   "outputs": [
    {
     "name": "stdout",
     "output_type": "stream",
     "text": [
      "Current Time = 19:23:07\n"
     ]
    }
   ],
   "source": [
    "\n",
    "\n",
    "now = datetime.utcnow()\n",
    "\n",
    "current_time = now.strftime(\"%H:%M:%S\")\n",
    "print(\"Current Time =\", current_time)"
   ]
  },
  {
   "cell_type": "code",
   "execution_count": 67,
   "metadata": {},
   "outputs": [],
   "source": [
    "test1={'update_id': 534054350, 'message': {'message_id': 104, 'from': {'id': 1455603038, 'is_bot': False, 'first_name': 'Tanim', 'language_code': 'en'}, 'chat': {'id': 1455603038, 'first_name': 'Tanim', 'type': 'private'}, 'date': 1620335987, 'text': 'Yooo'}}"
   ]
  },
  {
   "cell_type": "code",
   "execution_count": 34,
   "metadata": {},
   "outputs": [
    {
     "data": {
      "text/plain": [
       "19"
      ]
     },
     "execution_count": 34,
     "metadata": {},
     "output_type": "execute_result"
    }
   ],
   "source": [
    "int(current_time.split(\":\")[0])"
   ]
  },
  {
   "cell_type": "code",
   "execution_count": 35,
   "metadata": {},
   "outputs": [],
   "source": [
    "command=\"/complains tanim\""
   ]
  },
  {
   "cell_type": "code",
   "execution_count": 37,
   "metadata": {},
   "outputs": [
    {
     "data": {
      "text/plain": [
       "['/complains', 'tanim']"
      ]
     },
     "execution_count": 37,
     "metadata": {},
     "output_type": "execute_result"
    }
   ],
   "source": [
    "command.split(\" \")"
   ]
  },
  {
   "cell_type": "code",
   "execution_count": 80,
   "metadata": {},
   "outputs": [],
   "source": [
    "test={'update_id': 534054353, 'message': {'message_id': 107, 'from': {'id': 1455603038, 'is_bot': False, 'first_name': 'Tanim', 'language_code': 'en'}, 'chat': {'id': 1455603038, 'first_name': 'Tanim', 'type': 'private'}, 'date': 1620336749, 'photo': [{'file_id': 'AgACAgQAAxkBAANrYJRgbXblGmjdIi-aVXEExQduKGkAAi24MRs3xqlQr0lHyDSiqWQNn9cnXQADAQADAgADbQADnfsGAAEfBA', 'file_unique_id': 'AQADDZ_XJ10AA537BgAB', 'file_size': 27481, 'width': 236, 'height': 320}, {'file_id': 'AgACAgQAAxkBAANrYJRgbXblGmjdIi-aVXEExQduKGkAAi24MRs3xqlQr0lHyDSiqWQNn9cnXQADAQADAgADeAADoPsGAAEfBA', 'file_unique_id': 'AQADDZ_XJ10AA6D7BgAB', 'file_size': 104890, 'width': 591, 'height': 800}, {'file_id': 'AgACAgQAAxkBAANrYJRgbXblGmjdIi-aVXEExQduKGkAAi24MRs3xqlQr0lHyDSiqWQNn9cnXQADAQADAgADeQADn_sGAAEfBA', 'file_unique_id': 'AQADDZ_XJ10AA5_7BgAB', 'file_size': 164193, 'width': 946, 'height': 1280}]}}"
   ]
  },
  {
   "cell_type": "code",
   "execution_count": 81,
   "metadata": {},
   "outputs": [
    {
     "data": {
      "text/plain": [
       "{'update_id': 534054353,\n",
       " 'message': {'message_id': 107,\n",
       "  'from': {'id': 1455603038,\n",
       "   'is_bot': False,\n",
       "   'first_name': 'Tanim',\n",
       "   'language_code': 'en'},\n",
       "  'chat': {'id': 1455603038, 'first_name': 'Tanim', 'type': 'private'},\n",
       "  'date': 1620336749,\n",
       "  'photo': [{'file_id': 'AgACAgQAAxkBAANrYJRgbXblGmjdIi-aVXEExQduKGkAAi24MRs3xqlQr0lHyDSiqWQNn9cnXQADAQADAgADbQADnfsGAAEfBA',\n",
       "    'file_unique_id': 'AQADDZ_XJ10AA537BgAB',\n",
       "    'file_size': 27481,\n",
       "    'width': 236,\n",
       "    'height': 320},\n",
       "   {'file_id': 'AgACAgQAAxkBAANrYJRgbXblGmjdIi-aVXEExQduKGkAAi24MRs3xqlQr0lHyDSiqWQNn9cnXQADAQADAgADeAADoPsGAAEfBA',\n",
       "    'file_unique_id': 'AQADDZ_XJ10AA6D7BgAB',\n",
       "    'file_size': 104890,\n",
       "    'width': 591,\n",
       "    'height': 800},\n",
       "   {'file_id': 'AgACAgQAAxkBAANrYJRgbXblGmjdIi-aVXEExQduKGkAAi24MRs3xqlQr0lHyDSiqWQNn9cnXQADAQADAgADeQADn_sGAAEfBA',\n",
       "    'file_unique_id': 'AQADDZ_XJ10AA5_7BgAB',\n",
       "    'file_size': 164193,\n",
       "    'width': 946,\n",
       "    'height': 1280}]}}"
      ]
     },
     "execution_count": 81,
     "metadata": {},
     "output_type": "execute_result"
    }
   ],
   "source": [
    "test"
   ]
  },
  {
   "cell_type": "code",
   "execution_count": 71,
   "metadata": {},
   "outputs": [
    {
     "name": "stdout",
     "output_type": "stream",
     "text": [
      "Has Text\n"
     ]
    }
   ],
   "source": [
    "if hasattr(test1['message'], 'text'):\n",
    "    print(\"its a picture message\")\n",
    "else:\n",
    "    print(\"Has Text\")"
   ]
  },
  {
   "cell_type": "code",
   "execution_count": 86,
   "metadata": {},
   "outputs": [
    {
     "data": {
      "text/plain": [
       "{'update_id': 534054353,\n",
       " 'message': {'message_id': 107,\n",
       "  'from': {'id': 1455603038,\n",
       "   'is_bot': False,\n",
       "   'first_name': 'Tanim',\n",
       "   'language_code': 'en'},\n",
       "  'chat': {'id': 1455603038, 'first_name': 'Tanim', 'type': 'private'},\n",
       "  'date': 1620336749,\n",
       "  'photo': [{'file_id': 'AgACAgQAAxkBAANrYJRgbXblGmjdIi-aVXEExQduKGkAAi24MRs3xqlQr0lHyDSiqWQNn9cnXQADAQADAgADbQADnfsGAAEfBA',\n",
       "    'file_unique_id': 'AQADDZ_XJ10AA537BgAB',\n",
       "    'file_size': 27481,\n",
       "    'width': 236,\n",
       "    'height': 320},\n",
       "   {'file_id': 'AgACAgQAAxkBAANrYJRgbXblGmjdIi-aVXEExQduKGkAAi24MRs3xqlQr0lHyDSiqWQNn9cnXQADAQADAgADeAADoPsGAAEfBA',\n",
       "    'file_unique_id': 'AQADDZ_XJ10AA6D7BgAB',\n",
       "    'file_size': 104890,\n",
       "    'width': 591,\n",
       "    'height': 800},\n",
       "   {'file_id': 'AgACAgQAAxkBAANrYJRgbXblGmjdIi-aVXEExQduKGkAAi24MRs3xqlQr0lHyDSiqWQNn9cnXQADAQADAgADeQADn_sGAAEfBA',\n",
       "    'file_unique_id': 'AQADDZ_XJ10AA5_7BgAB',\n",
       "    'file_size': 164193,\n",
       "    'width': 946,\n",
       "    'height': 1280}]}}"
      ]
     },
     "execution_count": 86,
     "metadata": {},
     "output_type": "execute_result"
    }
   ],
   "source": [
    "test"
   ]
  },
  {
   "cell_type": "code",
   "execution_count": 87,
   "metadata": {},
   "outputs": [
    {
     "data": {
      "text/plain": [
       "'Tanim'"
      ]
     },
     "execution_count": 87,
     "metadata": {},
     "output_type": "execute_result"
    }
   ],
   "source": [
    "test['message']['from']['first_name']"
   ]
  },
  {
   "cell_type": "code",
   "execution_count": 88,
   "metadata": {},
   "outputs": [
    {
     "name": "stdout",
     "output_type": "stream",
     "text": [
      "[{'file_id': 'AgACAgQAAxkBAANrYJRgbXblGmjdIi-aVXEExQduKGkAAi24MRs3xqlQr0lHyDSiqWQNn9cnXQADAQADAgADbQADnfsGAAEfBA', 'file_unique_id': 'AQADDZ_XJ10AA537BgAB', 'file_size': 27481, 'width': 236, 'height': 320}, {'file_id': 'AgACAgQAAxkBAANrYJRgbXblGmjdIi-aVXEExQduKGkAAi24MRs3xqlQr0lHyDSiqWQNn9cnXQADAQADAgADeAADoPsGAAEfBA', 'file_unique_id': 'AQADDZ_XJ10AA6D7BgAB', 'file_size': 104890, 'width': 591, 'height': 800}, {'file_id': 'AgACAgQAAxkBAANrYJRgbXblGmjdIi-aVXEExQduKGkAAi24MRs3xqlQr0lHyDSiqWQNn9cnXQADAQADAgADeQADn_sGAAEfBA', 'file_unique_id': 'AQADDZ_XJ10AA5_7BgAB', 'file_size': 164193, 'width': 946, 'height': 1280}]\n"
     ]
    }
   ],
   "source": [
    "print(test['message']['photo']['photo'])"
   ]
  },
  {
   "cell_type": "code",
   "execution_count": 89,
   "metadata": {},
   "outputs": [],
   "source": [
    "tt=\"/help me\"\n",
    "tt1=\"help yoo man\"\n",
    "tt2=\"/help\""
   ]
  },
  {
   "cell_type": "code",
   "execution_count": 92,
   "metadata": {},
   "outputs": [
    {
     "data": {
      "text/plain": [
       "True"
      ]
     },
     "execution_count": 92,
     "metadata": {},
     "output_type": "execute_result"
    }
   ],
   "source": [
    "\"/help\" in tt2"
   ]
  },
  {
   "cell_type": "code",
   "execution_count": 93,
   "metadata": {},
   "outputs": [
    {
     "data": {
      "text/plain": [
       "{'update_id': 534054350,\n",
       " 'message': {'message_id': 104,\n",
       "  'from': {'id': 1455603038,\n",
       "   'is_bot': False,\n",
       "   'first_name': 'Tanim',\n",
       "   'language_code': 'en'},\n",
       "  'chat': {'id': 1455603038, 'first_name': 'Tanim', 'type': 'private'},\n",
       "  'date': 1620335987,\n",
       "  'text': 'Yooo'}}"
      ]
     },
     "execution_count": 93,
     "metadata": {},
     "output_type": "execute_result"
    }
   ],
   "source": [
    "test1"
   ]
  },
  {
   "cell_type": "code",
   "execution_count": 94,
   "metadata": {},
   "outputs": [
    {
     "data": {
      "text/plain": [
       "1455603038"
      ]
     },
     "execution_count": 94,
     "metadata": {},
     "output_type": "execute_result"
    }
   ],
   "source": [
    "test['message']['from']['id']"
   ]
  },
  {
   "cell_type": "code",
   "execution_count": null,
   "metadata": {},
   "outputs": [],
   "source": []
  }
 ],
 "metadata": {
  "kernelspec": {
   "display_name": "Python 3",
   "language": "python",
   "name": "python3"
  },
  "language_info": {
   "codemirror_mode": {
    "name": "ipython",
    "version": 3
   },
   "file_extension": ".py",
   "mimetype": "text/x-python",
   "name": "python",
   "nbconvert_exporter": "python",
   "pygments_lexer": "ipython3",
   "version": "3.8.5"
  }
 },
 "nbformat": 4,
 "nbformat_minor": 4
}
